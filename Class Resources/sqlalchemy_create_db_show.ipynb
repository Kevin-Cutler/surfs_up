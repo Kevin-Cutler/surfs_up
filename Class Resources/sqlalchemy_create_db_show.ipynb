{
 "cells": [
  {
   "cell_type": "markdown",
   "metadata": {},
   "source": [
    "# Imports"
   ]
  },
  {
   "cell_type": "code",
   "execution_count": null,
   "metadata": {},
   "outputs": [],
   "source": [
    "# If anything isn't working.  Try reinstalling this version of sqlalchemy \n",
    "# and restarting the kernel by uncommenting the line below and running the cell.\n",
    "\n",
    "# !pip install sqlalchemy==1.4"
   ]
  },
  {
   "cell_type": "code",
   "execution_count": 1,
   "metadata": {},
   "outputs": [],
   "source": [
    "from sqlalchemy.orm import declarative_base, sessionmaker\n",
    "from sqlalchemy import Column, String, Integer\n",
    "from sqlalchemy import create_engine"
   ]
  },
  {
   "cell_type": "code",
   "execution_count": 2,
   "metadata": {},
   "outputs": [],
   "source": [
    "import pandas as pd"
   ]
  },
  {
   "cell_type": "markdown",
   "metadata": {},
   "source": [
    "# Declare the Schema of the User Table"
   ]
  },
  {
   "cell_type": "code",
   "execution_count": 3,
   "metadata": {},
   "outputs": [],
   "source": [
    "Base = declarative_base()"
   ]
  },
  {
   "cell_type": "code",
   "execution_count": 4,
   "metadata": {},
   "outputs": [
    {
     "data": {
      "text/plain": [
       "id: None, username: None, email: None"
      ]
     },
     "execution_count": 4,
     "metadata": {},
     "output_type": "execute_result"
    }
   ],
   "source": [
    "class User(Base):\n",
    "    \n",
    "    __tablename__ = \"users\"\n",
    "    \n",
    "    id = Column(Integer(), primary_key = True)\n",
    "    \n",
    "    username = Column(String(30), unique = True, nullable = False)\n",
    "    \n",
    "    email = Column(String(85), unique = True, nullable = False)\n",
    "    \n",
    "    # This allows us to print out what it is.\n",
    "    def __repr__(self):\n",
    "        return f\"id: {self.id}, username: {self.username}, email: {self.email}\"\n",
    "        \n",
    "User()    "
   ]
  },
  {
   "cell_type": "markdown",
   "metadata": {},
   "source": [
    "# Connect to a Database Type (SQLite, Postgres, etc.)"
   ]
  },
  {
   "cell_type": "code",
   "execution_count": 5,
   "metadata": {},
   "outputs": [
    {
     "data": {
      "text/plain": [
       "Engine(sqlite:///users.db)"
      ]
     },
     "execution_count": 5,
     "metadata": {},
     "output_type": "execute_result"
    }
   ],
   "source": [
    "connection_string = \"sqlite:///users.db\"\n",
    "\n",
    "engine = create_engine(connection_string, echo = True)  # Echo = log and show results.\n",
    "engine"
   ]
  },
  {
   "cell_type": "markdown",
   "metadata": {},
   "source": [
    "# Convert the Python Class to a SQL Table"
   ]
  },
  {
   "cell_type": "code",
   "execution_count": 6,
   "metadata": {},
   "outputs": [
    {
     "name": "stdout",
     "output_type": "stream",
     "text": [
      "2021-10-20 18:58:26,616 INFO sqlalchemy.engine.Engine BEGIN (implicit)\n",
      "2021-10-20 18:58:26,628 INFO sqlalchemy.engine.Engine PRAGMA main.table_info(\"users\")\n",
      "2021-10-20 18:58:26,629 INFO sqlalchemy.engine.Engine [raw sql] ()\n",
      "2021-10-20 18:58:26,631 INFO sqlalchemy.engine.Engine PRAGMA temp.table_info(\"users\")\n",
      "2021-10-20 18:58:26,633 INFO sqlalchemy.engine.Engine [raw sql] ()\n",
      "2021-10-20 18:58:26,640 INFO sqlalchemy.engine.Engine \n",
      "CREATE TABLE users (\n",
      "\tid INTEGER NOT NULL, \n",
      "\tusername VARCHAR(30) NOT NULL, \n",
      "\temail VARCHAR(85) NOT NULL, \n",
      "\tPRIMARY KEY (id), \n",
      "\tUNIQUE (username), \n",
      "\tUNIQUE (email)\n",
      ")\n",
      "\n",
      "\n",
      "2021-10-20 18:58:26,641 INFO sqlalchemy.engine.Engine [no key 0.00166s] ()\n",
      "2021-10-20 18:58:26,649 INFO sqlalchemy.engine.Engine COMMIT\n"
     ]
    }
   ],
   "source": [
    "Base.metadata.create_all(engine)"
   ]
  },
  {
   "cell_type": "markdown",
   "metadata": {},
   "source": [
    "# Add User Entries with a Session"
   ]
  },
  {
   "cell_type": "code",
   "execution_count": 7,
   "metadata": {},
   "outputs": [
    {
     "data": {
      "text/plain": [
       "sessionmaker(class_='Session', bind=None, autoflush=True, autocommit=False, expire_on_commit=True)"
      ]
     },
     "execution_count": 7,
     "metadata": {},
     "output_type": "execute_result"
    }
   ],
   "source": [
    "Session = sessionmaker()\n",
    "Session"
   ]
  },
  {
   "cell_type": "code",
   "execution_count": 8,
   "metadata": {},
   "outputs": [
    {
     "data": {
      "text/plain": [
       "<sqlalchemy.orm.session.Session at 0x1eac08158b0>"
      ]
     },
     "execution_count": 8,
     "metadata": {},
     "output_type": "execute_result"
    }
   ],
   "source": [
    "local_session = Session(bind = engine)\n",
    "local_session"
   ]
  },
  {
   "cell_type": "code",
   "execution_count": 9,
   "metadata": {},
   "outputs": [
    {
     "data": {
      "text/plain": [
       "id: 1, username: Tommy_Pancakes, email: tom@leethacker.com"
      ]
     },
     "execution_count": 9,
     "metadata": {},
     "output_type": "execute_result"
    }
   ],
   "source": [
    "new_user = User(id = 1, username = \"Tommy_Pancakes\", email = \"tom@leethacker.com\")\n",
    "new_user"
   ]
  },
  {
   "cell_type": "code",
   "execution_count": 10,
   "metadata": {},
   "outputs": [
    {
     "data": {
      "text/plain": [
       "id: 2, username: Nicky_Waffles, email: nick@42.com"
      ]
     },
     "execution_count": 10,
     "metadata": {},
     "output_type": "execute_result"
    }
   ],
   "source": [
    "new_user2 = User(id = 2, username = \"Nicky_Waffles\", email = \"nick@42.com\")\n",
    "new_user2"
   ]
  },
  {
   "cell_type": "code",
   "execution_count": 11,
   "metadata": {},
   "outputs": [
    {
     "name": "stdout",
     "output_type": "stream",
     "text": [
      "2021-10-20 18:58:36,202 INFO sqlalchemy.engine.Engine BEGIN (implicit)\n",
      "2021-10-20 18:58:36,211 INFO sqlalchemy.engine.Engine INSERT INTO users (id, username, email) VALUES (?, ?, ?)\n",
      "2021-10-20 18:58:36,212 INFO sqlalchemy.engine.Engine [generated in 0.00199s] ((1, 'Tommy_Pancakes', 'tom@leethacker.com'), (2, 'Nicky_Waffles', 'nick@42.com'))\n",
      "2021-10-20 18:58:36,219 INFO sqlalchemy.engine.Engine COMMIT\n"
     ]
    }
   ],
   "source": [
    "local_session.add(new_user)\n",
    "local_session.add(new_user2)\n",
    "\n",
    "local_session.commit()"
   ]
  },
  {
   "cell_type": "markdown",
   "metadata": {},
   "source": [
    "# Use a Session to Perform Queries"
   ]
  },
  {
   "cell_type": "markdown",
   "metadata": {},
   "source": [
    "### Pythonic Style SQL Queries with local_session.query()"
   ]
  },
  {
   "cell_type": "code",
   "execution_count": null,
   "metadata": {},
   "outputs": [],
   "source": [
    "# Neat line of code Jupyter doesn't like.\n",
    "\n",
    "# query_result = local_session.query(User.username) \\    # Like SELECT\n",
    "#                             .filter(User.id == 1) \\    # Like WHERE\n",
    "#                             .order_by(User.username) \\ # Like ORDER BY\n",
    "#                             .first()                   # Like LIMIT 1\n",
    "# query_result"
   ]
  },
  {
   "cell_type": "code",
   "execution_count": 12,
   "metadata": {},
   "outputs": [
    {
     "name": "stdout",
     "output_type": "stream",
     "text": [
      "2021-10-20 19:10:13,792 INFO sqlalchemy.engine.Engine BEGIN (implicit)\n",
      "2021-10-20 19:10:13,805 INFO sqlalchemy.engine.Engine SELECT users.username AS users_username \n",
      "FROM users \n",
      "WHERE users.id = ? ORDER BY users.username\n",
      " LIMIT ? OFFSET ?\n",
      "2021-10-20 19:10:13,805 INFO sqlalchemy.engine.Engine [generated in 0.00124s] (1, 1, 0)\n"
     ]
    },
    {
     "data": {
      "text/plain": [
       "('Tommy_Pancakes',)"
      ]
     },
     "execution_count": 12,
     "metadata": {},
     "output_type": "execute_result"
    }
   ],
   "source": [
    "#Ugly line of same code above.\n",
    "\n",
    "query_result = local_session.query(User.username).filter(User.id == 1).order_by(User.username).first()  # Like LIMIT 1\n",
    "query_result"
   ]
  },
  {
   "cell_type": "markdown",
   "metadata": {},
   "source": [
    "### You can use straight up SQL queries too with engine.execute()"
   ]
  },
  {
   "cell_type": "code",
   "execution_count": 13,
   "metadata": {},
   "outputs": [
    {
     "name": "stdout",
     "output_type": "stream",
     "text": [
      "2021-10-20 19:10:56,828 INFO sqlalchemy.engine.Engine SELECT * FROM Users WHERE id == 1\n",
      "2021-10-20 19:10:56,829 INFO sqlalchemy.engine.Engine [raw sql] ()\n",
      "(1, 'Tommy_Pancakes', 'tom@leethacker.com')\n"
     ]
    }
   ],
   "source": [
    "SQL_STRING = \"SELECT * FROM Users WHERE id == 1\"\n",
    "\n",
    "data = engine.execute(SQL_STRING)\n",
    "\n",
    "for record in data:\n",
    "    print(record)"
   ]
  },
  {
   "cell_type": "markdown",
   "metadata": {},
   "source": [
    "### Lastly, you can use pandas"
   ]
  },
  {
   "cell_type": "markdown",
   "metadata": {},
   "source": [
    "# Introspect with Inspector"
   ]
  },
  {
   "cell_type": "code",
   "execution_count": 14,
   "metadata": {},
   "outputs": [
    {
     "data": {
      "text/plain": [
       "<sqlalchemy.engine.reflection.Inspector at 0x1eac0815eb0>"
      ]
     },
     "execution_count": 14,
     "metadata": {},
     "output_type": "execute_result"
    }
   ],
   "source": [
    "from sqlalchemy import inspect  # Students, put this at the top, just for ease in teaching.\n",
    "inspector = inspect(engine)\n",
    "inspector"
   ]
  },
  {
   "cell_type": "code",
   "execution_count": 15,
   "metadata": {},
   "outputs": [
    {
     "data": {
      "text/plain": [
       "['__class__',\n",
       " '__delattr__',\n",
       " '__dict__',\n",
       " '__dir__',\n",
       " '__doc__',\n",
       " '__eq__',\n",
       " '__format__',\n",
       " '__ge__',\n",
       " '__getattribute__',\n",
       " '__gt__',\n",
       " '__hash__',\n",
       " '__init__',\n",
       " '__init_subclass__',\n",
       " '__le__',\n",
       " '__lt__',\n",
       " '__module__',\n",
       " '__ne__',\n",
       " '__new__',\n",
       " '__reduce__',\n",
       " '__reduce_ex__',\n",
       " '__repr__',\n",
       " '__setattr__',\n",
       " '__sizeof__',\n",
       " '__str__',\n",
       " '__subclasshook__',\n",
       " '__weakref__',\n",
       " '_connectable_insp',\n",
       " '_connection_insp',\n",
       " '_construct',\n",
       " '_engine_insp',\n",
       " '_index_sort_exprs',\n",
       " '_init_connection',\n",
       " '_init_engine',\n",
       " '_init_legacy',\n",
       " '_inspection_context',\n",
       " '_op_context_requires_connect',\n",
       " '_operation_context',\n",
       " '_reflect_check_constraints',\n",
       " '_reflect_col_sequence',\n",
       " '_reflect_column',\n",
       " '_reflect_fk',\n",
       " '_reflect_indexes',\n",
       " '_reflect_pk',\n",
       " '_reflect_table_comment',\n",
       " '_reflect_unique_constraints',\n",
       " 'bind',\n",
       " 'default_schema_name',\n",
       " 'dialect',\n",
       " 'engine',\n",
       " 'from_engine',\n",
       " 'get_check_constraints',\n",
       " 'get_columns',\n",
       " 'get_foreign_keys',\n",
       " 'get_indexes',\n",
       " 'get_pk_constraint',\n",
       " 'get_schema_names',\n",
       " 'get_sequence_names',\n",
       " 'get_sorted_table_and_fkc_names',\n",
       " 'get_table_comment',\n",
       " 'get_table_names',\n",
       " 'get_table_options',\n",
       " 'get_temp_table_names',\n",
       " 'get_temp_view_names',\n",
       " 'get_unique_constraints',\n",
       " 'get_view_definition',\n",
       " 'get_view_names',\n",
       " 'has_sequence',\n",
       " 'has_table',\n",
       " 'info_cache',\n",
       " 'reflect_table',\n",
       " 'reflecttable']"
      ]
     },
     "execution_count": 15,
     "metadata": {},
     "output_type": "execute_result"
    }
   ],
   "source": [
    "dir(inspector)"
   ]
  },
  {
   "cell_type": "code",
   "execution_count": 16,
   "metadata": {},
   "outputs": [
    {
     "name": "stdout",
     "output_type": "stream",
     "text": [
      "2021-10-20 19:12:33,995 INFO sqlalchemy.engine.Engine PRAGMA main.table_xinfo(\"users\")\n",
      "2021-10-20 19:12:33,996 INFO sqlalchemy.engine.Engine [raw sql] ()\n"
     ]
    },
    {
     "data": {
      "text/plain": [
       "[{'name': 'id',\n",
       "  'type': INTEGER(),\n",
       "  'nullable': False,\n",
       "  'default': None,\n",
       "  'autoincrement': 'auto',\n",
       "  'primary_key': 1},\n",
       " {'name': 'username',\n",
       "  'type': VARCHAR(length=30),\n",
       "  'nullable': False,\n",
       "  'default': None,\n",
       "  'autoincrement': 'auto',\n",
       "  'primary_key': 0},\n",
       " {'name': 'email',\n",
       "  'type': VARCHAR(length=85),\n",
       "  'nullable': False,\n",
       "  'default': None,\n",
       "  'autoincrement': 'auto',\n",
       "  'primary_key': 0}]"
      ]
     },
     "execution_count": 16,
     "metadata": {},
     "output_type": "execute_result"
    }
   ],
   "source": [
    "columns = inspector.get_columns('users')\n",
    "columns"
   ]
  },
  {
   "cell_type": "markdown",
   "metadata": {},
   "source": [
    "## Loop over the columns and print them out"
   ]
  },
  {
   "cell_type": "code",
   "execution_count": 17,
   "metadata": {},
   "outputs": [
    {
     "name": "stdout",
     "output_type": "stream",
     "text": [
      "id\n",
      "username\n",
      "email\n"
     ]
    }
   ],
   "source": [
    "for column in columns:\n",
    "    print(column['name'])\n"
   ]
  },
  {
   "cell_type": "markdown",
   "metadata": {},
   "source": [
    "## Read SQL Database into Dataframe"
   ]
  },
  {
   "cell_type": "code",
   "execution_count": 18,
   "metadata": {},
   "outputs": [
    {
     "name": "stdout",
     "output_type": "stream",
     "text": [
      "2021-10-20 19:13:35,158 INFO sqlalchemy.engine.Engine PRAGMA main.table_info(\"SELECT * FROM Users\")\n",
      "2021-10-20 19:13:35,159 INFO sqlalchemy.engine.Engine [raw sql] ()\n",
      "2021-10-20 19:13:35,162 INFO sqlalchemy.engine.Engine PRAGMA temp.table_info(\"SELECT * FROM Users\")\n",
      "2021-10-20 19:13:35,163 INFO sqlalchemy.engine.Engine [raw sql] ()\n",
      "2021-10-20 19:13:35,168 INFO sqlalchemy.engine.Engine SELECT * FROM Users\n",
      "2021-10-20 19:13:35,169 INFO sqlalchemy.engine.Engine [raw sql] ()\n"
     ]
    },
    {
     "data": {
      "text/html": [
       "<div>\n",
       "<style scoped>\n",
       "    .dataframe tbody tr th:only-of-type {\n",
       "        vertical-align: middle;\n",
       "    }\n",
       "\n",
       "    .dataframe tbody tr th {\n",
       "        vertical-align: top;\n",
       "    }\n",
       "\n",
       "    .dataframe thead th {\n",
       "        text-align: right;\n",
       "    }\n",
       "</style>\n",
       "<table border=\"1\" class=\"dataframe\">\n",
       "  <thead>\n",
       "    <tr style=\"text-align: right;\">\n",
       "      <th></th>\n",
       "      <th>id</th>\n",
       "      <th>username</th>\n",
       "      <th>email</th>\n",
       "    </tr>\n",
       "  </thead>\n",
       "  <tbody>\n",
       "    <tr>\n",
       "      <th>0</th>\n",
       "      <td>1</td>\n",
       "      <td>Tommy_Pancakes</td>\n",
       "      <td>tom@leethacker.com</td>\n",
       "    </tr>\n",
       "    <tr>\n",
       "      <th>1</th>\n",
       "      <td>2</td>\n",
       "      <td>Nicky_Waffles</td>\n",
       "      <td>nick@42.com</td>\n",
       "    </tr>\n",
       "  </tbody>\n",
       "</table>\n",
       "</div>"
      ],
      "text/plain": [
       "   id        username               email\n",
       "0   1  Tommy_Pancakes  tom@leethacker.com\n",
       "1   2   Nicky_Waffles         nick@42.com"
      ]
     },
     "execution_count": 18,
     "metadata": {},
     "output_type": "execute_result"
    }
   ],
   "source": [
    "sample_query = \"SELECT * FROM Users\"\n",
    "df = pd.read_sql(sample_query, engine)\n",
    "df.head()"
   ]
  },
  {
   "cell_type": "code",
   "execution_count": null,
   "metadata": {},
   "outputs": [],
   "source": []
  }
 ],
 "metadata": {
  "kernelspec": {
   "display_name": "Python 3 (ipykernel)",
   "language": "python",
   "name": "python3"
  },
  "language_info": {
   "codemirror_mode": {
    "name": "ipython",
    "version": 3
   },
   "file_extension": ".py",
   "mimetype": "text/x-python",
   "name": "python",
   "nbconvert_exporter": "python",
   "pygments_lexer": "ipython3",
   "version": "3.8.8"
  }
 },
 "nbformat": 4,
 "nbformat_minor": 4
}
